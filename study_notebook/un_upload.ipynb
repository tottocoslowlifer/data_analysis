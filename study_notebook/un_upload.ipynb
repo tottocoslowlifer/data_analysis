{
 "cells": [
  {
   "cell_type": "code",
   "execution_count": null,
   "metadata": {},
   "outputs": [],
   "source": [
    "import torch\n",
    "import torch.nn as nn\n",
    "import torch.nn.functional as F"
   ]
  },
  {
   "cell_type": "markdown",
   "metadata": {},
   "source": [
    "### 全結合層の定義"
   ]
  },
  {
   "cell_type": "code",
   "execution_count": null,
   "metadata": {},
   "outputs": [],
   "source": [
    "# シード値固定\n",
    "torch.manual_seed(1)\n",
    "\n",
    "# 全結合層の定義\n",
    "fc = nn.Linear(3, 2) # 3次元から2次元へ"
   ]
  },
  {
   "cell_type": "code",
   "execution_count": null,
   "metadata": {},
   "outputs": [],
   "source": [
    "# 重み(W)：ランダムに格納\n",
    "fc.weight"
   ]
  },
  {
   "cell_type": "code",
   "execution_count": null,
   "metadata": {},
   "outputs": [],
   "source": [
    "# バイアス(b)：ランダムに格納\n",
    "fc.bias"
   ]
  },
  {
   "cell_type": "markdown",
   "metadata": {},
   "source": [
    "### 線形変換"
   ]
  },
  {
   "cell_type": "code",
   "execution_count": null,
   "metadata": {},
   "outputs": [],
   "source": [
    "# PyTorchで使用するTensor型に変換(各値はfloat型に)\n",
    "x = torch.tensor([[1, 2, 3]], dtype=torch.float32)"
   ]
  },
  {
   "cell_type": "code",
   "execution_count": null,
   "metadata": {},
   "outputs": [],
   "source": [
    "# 線形変換を実行\n",
    "u = fc(x)\n",
    "u"
   ]
  },
  {
   "cell_type": "markdown",
   "metadata": {},
   "source": [
    "### 非線形変換(ReLU関数による)"
   ]
  },
  {
   "cell_type": "code",
   "execution_count": null,
   "metadata": {},
   "outputs": [],
   "source": [
    "# ReLU関数による変換\n",
    "z = F.relu(u)\n",
    "z"
   ]
  },
  {
   "cell_type": "markdown",
   "metadata": {},
   "source": [
    "### 例題"
   ]
  },
  {
   "cell_type": "code",
   "execution_count": null,
   "metadata": {},
   "outputs": [],
   "source": [
    "torch.manual_seed(1)\n",
    "fc = nn.Linear(3, 2)\n",
    "fc_2 = nn.Linear(2, 1)\n",
    "\n",
    "x = torch.tensor([[1, 2, 3]], dtype=torch.float32)\n",
    "\n",
    "z = F.relu(fc(x))\n",
    "y = fc_2(z)\n",
    "\n",
    "y"
   ]
  },
  {
   "cell_type": "markdown",
   "metadata": {},
   "source": [
    "### 目的関数(平均二乗誤差による)"
   ]
  },
  {
   "cell_type": "code",
   "execution_count": null,
   "metadata": {},
   "outputs": [],
   "source": [
    "# 目標値の設定\n",
    "t = torch.tensor([[1]], dtype=torch.float32)\n",
    "t"
   ]
  },
  {
   "cell_type": "code",
   "execution_count": null,
   "metadata": {},
   "outputs": [],
   "source": [
    "# MSEの算出\n",
    "loss = F.mse_loss(t, y)\n",
    "loss"
   ]
  },
  {
   "cell_type": "markdown",
   "metadata": {},
   "source": [
    "## 実装（基礎編）"
   ]
  },
  {
   "cell_type": "markdown",
   "metadata": {},
   "source": [
    "### データセットの準備"
   ]
  },
  {
   "cell_type": "code",
   "execution_count": null,
   "metadata": {},
   "outputs": [],
   "source": [
    "from sklearn.datasets import load_iris\n",
    "import torch \n",
    "import torch.nn as nn\n",
    "import torch.nn.functional as F"
   ]
  },
  {
   "cell_type": "code",
   "execution_count": null,
   "metadata": {},
   "outputs": [],
   "source": [
    "# 特徴量と目標値の定義\n",
    "x, t = load_iris(return_X_y=True)"
   ]
  },
  {
   "cell_type": "code",
   "execution_count": null,
   "metadata": {},
   "outputs": [],
   "source": [
    "# torch型に変換\n",
    "x = torch.tensor(x, dtype=torch.float32)\n",
    "t = torch.tensor(t, dtype=torch.int64)"
   ]
  },
  {
   "cell_type": "code",
   "execution_count": null,
   "metadata": {},
   "outputs": [],
   "source": [
    "# まとめて一つのオブジェクトdatasetに変換\n",
    "dataset = torch.utils.data.TensorDataset(x, t)\n",
    "dataset"
   ]
  },
  {
   "cell_type": "code",
   "execution_count": null,
   "metadata": {},
   "outputs": [],
   "source": [
    "# データセットを学習用,検証用,テスト用に分割(train_test_splitと同じ？)\n",
    "n_train = int(len(dataset) * 0.6)\n",
    "n_val = int(len(dataset) * 0.2)\n",
    "n_test = len(dataset) - n_train - n_val\n",
    "\n",
    "torch.manual_seed(0)\n",
    "train, val, test = torch.utils.data.random_split(dataset, [n_train, n_val, n_test])"
   ]
  },
  {
   "cell_type": "markdown",
   "metadata": {},
   "source": [
    "### ミニバッチ学習"
   ]
  },
  {
   "cell_type": "code",
   "execution_count": null,
   "metadata": {},
   "outputs": [],
   "source": [
    "batch_size = 10\n",
    "# shuffleは学習データのみTrueに(目的関数を変化させることで,局所解に囚われないように)\n",
    "train_loader = torch.utils.data.DataLoader(train, batch_size, shuffle=True)\n",
    "val_loader = torch.utils.data.DataLoader(val, batch_size)\n",
    "test_loader = torch.utils.data.DataLoader(test, batch_size)"
   ]
  },
  {
   "cell_type": "markdown",
   "metadata": {},
   "source": [
    "### モデルの定義"
   ]
  },
  {
   "cell_type": "code",
   "execution_count": null,
   "metadata": {},
   "outputs": [],
   "source": [
    "# インスタンスnetの作成\n",
    "class Net(nn.Module):\n",
    "    # 使用するオブジェクトの定義\n",
    "    def __init__(self):\n",
    "        super(Net, self).__init__()\n",
    "        self.fc1 = nn.Linear(4, 4)\n",
    "        self.fc2 = nn.Linear(4, 3)\n",
    "    \n",
    "    # 順伝播\n",
    "    def forward(self, x):\n",
    "        x = self.fc1(x)\n",
    "        x = F.relu(x)\n",
    "        x = self.fc2(x)\n",
    "\n",
    "        return x"
   ]
  },
  {
   "cell_type": "code",
   "execution_count": null,
   "metadata": {},
   "outputs": [],
   "source": [
    "torch.manual_seed(0)\n",
    "# インスタンス化\n",
    "net = Net()"
   ]
  },
  {
   "cell_type": "code",
   "execution_count": null,
   "metadata": {},
   "outputs": [],
   "source": [
    "# モデルの確認\n",
    "net"
   ]
  },
  {
   "cell_type": "markdown",
   "metadata": {},
   "source": [
    "### 目的関数の選択(クロスエントロピーによる)"
   ]
  },
  {
   "cell_type": "code",
   "execution_count": null,
   "metadata": {},
   "outputs": [],
   "source": [
    "# 目的関数の定義\n",
    "criterion = F.cross_entropy\n",
    "criterion"
   ]
  },
  {
   "cell_type": "markdown",
   "metadata": {},
   "source": [
    "### 最適化手法の選択"
   ]
  },
  {
   "cell_type": "code",
   "execution_count": null,
   "metadata": {},
   "outputs": [],
   "source": [
    "# パラメータの取得\n",
    "for parameter in iter(net.parameters()):\n",
    "    print(parameter)"
   ]
  },
  {
   "cell_type": "code",
   "execution_count": null,
   "metadata": {},
   "outputs": [],
   "source": [
    "# 最適化手法の選択(今回はSGD：確率的勾配降下法)\n",
    "optimizer = torch.optim.SGD(net.parameters(), lr=0.1) # lr:学習係数\n",
    "optimizer"
   ]
  },
  {
   "cell_type": "markdown",
   "metadata": {},
   "source": [
    "### 学習"
   ]
  },
  {
   "cell_type": "code",
   "execution_count": null,
   "metadata": {},
   "outputs": [],
   "source": [
    "# バッチサイズ分のサンプルを抽出\n",
    "batch = next(iter(train_loader)) # iter: 1イテレーション分取り出せる, next: 順に\n",
    "batch"
   ]
  },
  {
   "cell_type": "code",
   "execution_count": null,
   "metadata": {},
   "outputs": [],
   "source": [
    "# 入力値と目標値に分割\n",
    "x, t = batch"
   ]
  },
  {
   "cell_type": "code",
   "execution_count": null,
   "metadata": {},
   "outputs": [],
   "source": [
    "# 全結合層fc1のパラメータ(重み)の値\n",
    "net.fc1.weight"
   ]
  },
  {
   "cell_type": "code",
   "execution_count": null,
   "metadata": {},
   "outputs": [],
   "source": [
    "# 全結合層fc1のバイアスの値\n",
    "net.fc1.bias"
   ]
  },
  {
   "cell_type": "code",
   "execution_count": null,
   "metadata": {},
   "outputs": [],
   "source": [
    "# 予測値の算出\n",
    "y = net(x) # net.forward(x)と書いても同じ\n",
    "y"
   ]
  },
  {
   "cell_type": "code",
   "execution_count": null,
   "metadata": {},
   "outputs": [],
   "source": [
    "# 目的関数の算出\n",
    "loss = criterion(y, t)\n",
    "loss"
   ]
  },
  {
   "cell_type": "code",
   "execution_count": null,
   "metadata": {},
   "outputs": [],
   "source": [
    "# 勾配の算出\n",
    "loss.backward()"
   ]
  },
  {
   "cell_type": "code",
   "execution_count": null,
   "metadata": {},
   "outputs": [],
   "source": [
    "# fc1の重みに関する勾配が求まった\n",
    "net.fc1.weight.grad"
   ]
  },
  {
   "cell_type": "code",
   "execution_count": null,
   "metadata": {},
   "outputs": [],
   "source": [
    "# fc1のバイアスに関する勾配が求まった\n",
    "net.fc1.bias.grad"
   ]
  },
  {
   "cell_type": "code",
   "execution_count": null,
   "metadata": {},
   "outputs": [],
   "source": [
    "# 勾配情報を用いたパラメータの更新\n",
    "optimizer.step()"
   ]
  },
  {
   "cell_type": "markdown",
   "metadata": {},
   "source": [
    "### データのデバイスへの転送"
   ]
  },
  {
   "cell_type": "code",
   "execution_count": null,
   "metadata": {},
   "outputs": [],
   "source": [
    "# GPUが使用可能かの確認\n",
    "torch.cuda.is_available()"
   ]
  },
  {
   "cell_type": "code",
   "execution_count": null,
   "metadata": {},
   "outputs": [],
   "source": [
    "# GPUが使用可能ならcuda、そうでなければcpuを選択\n",
    "device = torch.device('cuda:0' if torch.cuda.is_available() else 'cpu')\n",
    "device"
   ]
  },
  {
   "cell_type": "code",
   "execution_count": null,
   "metadata": {},
   "outputs": [],
   "source": [
    "net.to(device)"
   ]
  },
  {
   "cell_type": "code",
   "execution_count": null,
   "metadata": {},
   "outputs": [],
   "source": [
    "# デバイスへの入力変数の転送\n",
    "x = x.to(device)\n",
    "x"
   ]
  },
  {
   "cell_type": "code",
   "execution_count": null,
   "metadata": {},
   "outputs": [],
   "source": [
    "# デバイスへの目標値の転送\n",
    "t = t.to(device)\n",
    "t"
   ]
  },
  {
   "cell_type": "markdown",
   "metadata": {},
   "source": [
    "### 勾配の初期化"
   ]
  },
  {
   "cell_type": "code",
   "execution_count": null,
   "metadata": {},
   "outputs": [],
   "source": [
    "# パラメータの勾配を求める前に勾配情報の初期化が必要\n",
    "optimizer.zero_grad()"
   ]
  },
  {
   "cell_type": "markdown",
   "metadata": {},
   "source": [
    "## モデルの学習(まとめ)"
   ]
  },
  {
   "cell_type": "code",
   "execution_count": null,
   "metadata": {},
   "outputs": [],
   "source": [
    "# エポック数は1\n",
    "max_epoch = 1"
   ]
  },
  {
   "cell_type": "code",
   "execution_count": null,
   "metadata": {},
   "outputs": [],
   "source": [
    "torch.manual_seed(0)\n",
    "# モデルのインスタンス化とデバイスへの転送\n",
    "net = Net().to(device)"
   ]
  },
  {
   "cell_type": "code",
   "execution_count": null,
   "metadata": {},
   "outputs": [],
   "source": [
    "# 最適化手法の選択\n",
    "optimizer = torch.optim.SGD(net.parameters(), lr=0.1)"
   ]
  },
  {
   "cell_type": "code",
   "execution_count": null,
   "metadata": {},
   "outputs": [],
   "source": [
    "# 学習\n",
    "for epoch in range(max_epoch):\n",
    "    \n",
    "    for batch in train_loader:\n",
    "        \n",
    "        # バッチサイズ分のサンプルを抽出\n",
    "        x, t = batch\n",
    "        \n",
    "        # 学習時に使用するデバイスへデータの転送\n",
    "        x = x.to(device)\n",
    "        t = t.to(device)\n",
    "        \n",
    "        # パラメータの勾配を初期化\n",
    "        optimizer.zero_grad()\n",
    "        \n",
    "        # 予測値の算出\n",
    "        y = net(x)\n",
    "        \n",
    "        # 目標値と予測値から目的関数の値を算出\n",
    "        loss = criterion(y, t)\n",
    "        \n",
    "        # 目的関数の値を表示して確認\n",
    "        # item(): tensot.Tensor => float\n",
    "        print('loss: ', loss.item())\n",
    "        \n",
    "        # 各パラメータの勾配を算出\n",
    "        loss.backward()\n",
    "        \n",
    "        # 勾配の情報を用いたパラメータの更新\n",
    "        optimizer.step()"
   ]
  },
  {
   "cell_type": "code",
   "execution_count": null,
   "metadata": {},
   "outputs": [],
   "source": [
    "# 「行ごと/列ごと」の最大値に対する要素番号を取得（dim=0 は列ごと）\n",
    "y_label = torch.argmax(y, dim=1)# dim=1 で「行ごと」に\n",
    "y_label"
   ]
  },
  {
   "cell_type": "code",
   "execution_count": null,
   "metadata": {},
   "outputs": [],
   "source": [
    "# 目的変数\n",
    "t"
   ]
  },
  {
   "cell_type": "code",
   "execution_count": null,
   "metadata": {},
   "outputs": [],
   "source": [
    "# 正解率の算出\n",
    "acc = torch.sum(y_label == t) * 1.0 / len(t) # 切り捨て防止のためにfloatへ変換\n",
    "acc"
   ]
  },
  {
   "cell_type": "code",
   "execution_count": null,
   "metadata": {},
   "outputs": [],
   "source": [
    "# 学習(改)\n",
    "for epoch in range(max_epoch):\n",
    "\n",
    "    for batch in train_loader:\n",
    "\n",
    "        x, t = batch\n",
    "        x = x.to(device)\n",
    "        t = t.to(device)\n",
    "        optimizer.zero_grad()\n",
    "        y = net(x)\n",
    "        loss = criterion(y, t)\n",
    "\n",
    "        # New：正解率の算出\n",
    "        y_label = torch.argmax(y, dim=1)\n",
    "        acc  = torch.sum(y_label == t) * 1.0 / len(t)\n",
    "        print('accuracy:', acc)\n",
    "\n",
    "        loss.backward()\n",
    "        optimizer.step()"
   ]
  },
  {
   "cell_type": "markdown",
   "metadata": {},
   "source": [
    "### 評価用"
   ]
  },
  {
   "cell_type": "code",
   "execution_count": null,
   "metadata": {},
   "outputs": [],
   "source": [
    "# 正解率の計算\n",
    "def calc_acc(data_loader):\n",
    "    \n",
    "    with torch.no_grad():\n",
    "        \n",
    "        accs = [] # 各バッチごとの結果格納用\n",
    "        \n",
    "        for batch in data_loader:\n",
    "            x, t = batch\n",
    "            x = x.to(device)\n",
    "            t = t.to(device)\n",
    "            y = net(x)\n",
    "            \n",
    "            y_label = torch.argmax(y, dim=1)\n",
    "            acc = torch.sum(y_label == t) * 1.0 / len(t)\n",
    "            accs.append(acc)\n",
    "            \n",
    "    # 全体の平均を算出\n",
    "    avg_acc = torch.tensor(accs).mean()\n",
    "    print('Accuracy: {:.1f}%'.format(avg_acc * 100))\n",
    "    \n",
    "    return avg_acc"
   ]
  },
  {
   "cell_type": "code",
   "execution_count": null,
   "metadata": {},
   "outputs": [],
   "source": [
    "calc_acc(val_loader)"
   ]
  },
  {
   "cell_type": "code",
   "execution_count": null,
   "metadata": {},
   "outputs": [],
   "source": [
    "calc_acc(test_loader)"
   ]
  },
  {
   "cell_type": "markdown",
   "metadata": {},
   "source": [
    "## 回帰"
   ]
  },
  {
   "cell_type": "code",
   "execution_count": null,
   "metadata": {},
   "outputs": [],
   "source": [
    "import numpy as np\n",
    "import pandas as pd\n",
    "from sklearn.datasets import load_diabetes"
   ]
  },
  {
   "cell_type": "code",
   "execution_count": null,
   "metadata": {},
   "outputs": [],
   "source": [
    "data = load_diabetes()\n",
    "t = data.data\n",
    "x = data.target"
   ]
  },
  {
   "cell_type": "markdown",
   "metadata": {},
   "source": [
    "### 1. Tensor型へ変換"
   ]
  },
  {
   "cell_type": "code",
   "execution_count": null,
   "metadata": {},
   "outputs": [],
   "source": [
    "import torch\n",
    "t = np.array(t)\n",
    "x = np.array(x)\n",
    "\n",
    "t = torch.from_numpy(t).float()\n",
    "x = torch.from_numpy(x).float()"
   ]
  },
  {
   "cell_type": "markdown",
   "metadata": {},
   "source": [
    "### 2. Datasetにまとめる"
   ]
  },
  {
   "cell_type": "code",
   "execution_count": null,
   "metadata": {},
   "outputs": [],
   "source": [
    "import torch.utils.data\n",
    "\n",
    "dataset = torch.utils.data.TensorDataset(x, t)\n",
    "dataset"
   ]
  },
  {
   "cell_type": "markdown",
   "metadata": {},
   "source": [
    "### 3. データの分割"
   ]
  },
  {
   "cell_type": "code",
   "execution_count": null,
   "metadata": {},
   "outputs": [],
   "source": [
    "n_train = int(len(dataset) * 0.6)\n",
    "n_val = int(len(dataset) * 0.2)\n",
    "n_test = len(dataset) - n_train - n_val\n",
    "\n",
    "torch.manual_seed(0)\n",
    "\n",
    "train, val, test = torch.utils.data.random_split(dataset, [n_train, n_val, n_test])"
   ]
  },
  {
   "cell_type": "markdown",
   "metadata": {},
   "source": [
    "### 4. モデルと学習手順の定義"
   ]
  },
  {
   "cell_type": "code",
   "execution_count": null,
   "metadata": {},
   "outputs": [],
   "source": [
    "import torch.nn as nn\n",
    "import torch.nn.functional as F\n",
    "import pytorch_lightning as pl\n",
    "\n",
    "# 学習用データに対する処理\n",
    "class TrainNet(pl.LightningModule):\n",
    "    \n",
    "    #@pl.data_loader \n",
    "    def train_dataloader(self):\n",
    "        return torch.utils.data.DataLoader(train, self.batch_size, shuffle=True)\n",
    "    \n",
    "    def training_step(self, batch, batch_nb):\n",
    "        x, t = batch\n",
    "        y = self.forward(x)\n",
    "        loss = self.lossfun(y, t)\n",
    "        results = {'loss': loss}\n",
    "        return results"
   ]
  },
  {
   "cell_type": "code",
   "execution_count": null,
   "metadata": {},
   "outputs": [],
   "source": [
    "# 検証データに対する処理\n",
    "class ValidationNet(pl.LightningModule):\n",
    "\n",
    "    #@pl.data_loader\n",
    "    def val_dataloader(self):\n",
    "        return torch.utils.data.DataLoader(val, self.batch_size)\n",
    "\n",
    "    def validation_step(self, batch, batch_nb):\n",
    "        x, t = batch\n",
    "        y = self.forward(x)\n",
    "        loss = self.lossfun(y, t)\n",
    "        results = {'val_loss': loss}\n",
    "        return results\n",
    "\n",
    "    def validation_end(self, outputs):\n",
    "        avg_loss = torch.stack([x['val_loss'] for x in outputs]).mean()\n",
    "        results = {'val_loss': avg_loss}\n",
    "        return results"
   ]
  },
  {
   "cell_type": "code",
   "execution_count": null,
   "metadata": {},
   "outputs": [],
   "source": [
    "# テストデータに対する処理\n",
    "class TestNet(pl.LightningModule):\n",
    "\n",
    "    #@pl.data_loader\n",
    "    def test_dataloader(self):\n",
    "        return torch.utils.data.DataLoader(test, self.batch_size)\n",
    "\n",
    "    def test_step(self, batch, batch_nb):\n",
    "        x, t = batch\n",
    "        y = self.forward(x)\n",
    "        loss = self.lossfun(y, t)\n",
    "        results = {'test_loss': loss}\n",
    "        return results\n",
    "\n",
    "    def test_end(self, outputs):\n",
    "        avg_loss = torch.stack([x['test_loss'] for x in outputs]).mean()\n",
    "        results = {'test_loss': avg_loss}\n",
    "        return results"
   ]
  },
  {
   "cell_type": "code",
   "execution_count": null,
   "metadata": {},
   "outputs": [],
   "source": [
    "# 学習データ、検証データ、テストデータへの処理を継承したクラス\n",
    "class Net(TrainNet, ValidationNet, TestNet):\n",
    "    \n",
    "    def __init__(self, input_size=13, hidden_size=5, output_size=1, batch_size=10):\n",
    "        super(Net, self).__init__()\n",
    "        self.fc1 = nn.Linear(input_size, hidden_size)\n",
    "        self.fc2 = nn.Linear(hidden_size, output_size)\n",
    "        self.batch_size = batch_size\n",
    "\n",
    "    def forward(self, x):\n",
    "        x = self.fc1(x)\n",
    "        x = F.relu(x)\n",
    "        x = self.fc2(x)\n",
    "        return x\n",
    "    \n",
    "    # New: 平均ニ乗誤差\n",
    "    def lossfun(self, y, t):\n",
    "        return F.mse_loss(y, t)\n",
    "\n",
    "    def configure_optimizers(self):\n",
    "        return torch.optim.SGD(self.parameters(), lr=0.1)"
   ]
  },
  {
   "cell_type": "markdown",
   "metadata": {},
   "source": [
    "### 5. モデルの学習"
   ]
  },
  {
   "cell_type": "code",
   "execution_count": null,
   "metadata": {},
   "outputs": [],
   "source": [
    "from pytorch_lightning import Trainer"
   ]
  },
  {
   "cell_type": "code",
   "execution_count": null,
   "metadata": {},
   "outputs": [],
   "source": [
    "# 再現性の確保\n",
    "torch.manual_seed(0)\n",
    "\n",
    "# インスタンス化\n",
    "net = Net()\n",
    "trainer = Trainer()\n",
    "\n",
    "# 学習の実行\n",
    "trainer.fit(net)"
   ]
  },
  {
   "cell_type": "markdown",
   "metadata": {},
   "source": [
    "### 6. 検証データとテストデータに対する精度評価"
   ]
  },
  {
   "cell_type": "code",
   "execution_count": null,
   "metadata": {},
   "outputs": [],
   "source": [
    "trainer.test()"
   ]
  },
  {
   "cell_type": "code",
   "execution_count": null,
   "metadata": {},
   "outputs": [],
   "source": [
    "trainer.callback_metrics"
   ]
  },
  {
   "cell_type": "code",
   "execution_count": null,
   "metadata": {},
   "outputs": [],
   "source": [
    "torch.sqrt(torch.tensor(trainer.callback_metrics['test_loss']))"
   ]
  }
 ],
 "metadata": {
  "kernelspec": {
   "display_name": "base",
   "language": "python",
   "name": "python3"
  },
  "language_info": {
   "codemirror_mode": {
    "name": "ipython",
    "version": 3
   },
   "file_extension": ".py",
   "mimetype": "text/x-python",
   "name": "python",
   "nbconvert_exporter": "python",
   "pygments_lexer": "ipython3",
   "version": "3.11.5"
  }
 },
 "nbformat": 4,
 "nbformat_minor": 2
}
