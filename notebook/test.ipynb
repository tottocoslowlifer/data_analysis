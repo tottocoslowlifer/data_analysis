{
 "cells": [
  {
   "cell_type": "markdown",
   "metadata": {},
   "source": [
    "### パッケージのインポート"
   ]
  },
  {
   "cell_type": "code",
   "execution_count": 48,
   "metadata": {},
   "outputs": [],
   "source": [
    "import csv\n",
    "import os\n",
    "\n",
    "import pandas as pd"
   ]
  },
  {
   "cell_type": "markdown",
   "metadata": {},
   "source": [
    "### 関数の定義"
   ]
  },
  {
   "cell_type": "code",
   "execution_count": 81,
   "metadata": {},
   "outputs": [],
   "source": [
    "def txt_csv_converter(filename, writer):\n",
    "    with open(filename) as f:\n",
    "        file = f.readlines()\n",
    "        for row in file:\n",
    "            read = []\n",
    "            for i in range(len(row)):\n",
    "                read.append(row.strip(\",\"))\n",
    "            writer.writerow(read)\n",
    "\n",
    "def get_raw_data(dir_path) -> list:\n",
    "    filenames = sorted(os.listdir(dir_path))\n",
    "    return filenames\n"
   ]
  },
  {
   "cell_type": "code",
   "execution_count": 79,
   "metadata": {},
   "outputs": [],
   "source": [
    "filename_path = \"../data/tsunami/NOWPHAS_Tsunami_data\"\n",
    "filenames = get_raw_data(filename_path+\"/raw\")"
   ]
  },
  {
   "cell_type": "code",
   "execution_count": 82,
   "metadata": {},
   "outputs": [
    {
     "ename": "UnicodeDecodeError",
     "evalue": "'utf-8' codec can't decode byte 0x8e in position 5273: invalid start byte",
     "output_type": "error",
     "traceback": [
      "\u001b[0;31m---------------------------------------------------------------------------\u001b[0m",
      "\u001b[0;31mUnicodeDecodeError\u001b[0m                        Traceback (most recent call last)",
      "\u001b[1;32m/Users/tocochan/github_tide_project/データ処理/notebook/test.ipynb セル 6\u001b[0m line \u001b[0;36m7\n\u001b[1;32m      <a href='vscode-notebook-cell:/Users/tocochan/github_tide_project/%E3%83%87%E3%83%BC%E3%82%BF%E5%87%A6%E7%90%86/notebook/test.ipynb#X10sZmlsZQ%3D%3D?line=4'>5</a>\u001b[0m \u001b[39mwith\u001b[39;00m \u001b[39mopen\u001b[39m(csv_file, mode\u001b[39m=\u001b[39m\u001b[39m\"\u001b[39m\u001b[39mw\u001b[39m\u001b[39m\"\u001b[39m, newline\u001b[39m=\u001b[39m\u001b[39m\"\u001b[39m\u001b[39m\"\u001b[39m) \u001b[39mas\u001b[39;00m fw:\n\u001b[1;32m      <a href='vscode-notebook-cell:/Users/tocochan/github_tide_project/%E3%83%87%E3%83%BC%E3%82%BF%E5%87%A6%E7%90%86/notebook/test.ipynb#X10sZmlsZQ%3D%3D?line=5'>6</a>\u001b[0m     writer \u001b[39m=\u001b[39m csv\u001b[39m.\u001b[39mwriter(fw)\n\u001b[0;32m----> <a href='vscode-notebook-cell:/Users/tocochan/github_tide_project/%E3%83%87%E3%83%BC%E3%82%BF%E5%87%A6%E7%90%86/notebook/test.ipynb#X10sZmlsZQ%3D%3D?line=6'>7</a>\u001b[0m     txt_csv_converter(filename_path\u001b[39m+\u001b[39;49m\u001b[39m\"\u001b[39;49m\u001b[39m/raw/\u001b[39;49m\u001b[39m\"\u001b[39;49m\u001b[39m+\u001b[39;49mfilename, writer)\n",
      "\u001b[1;32m/Users/tocochan/github_tide_project/データ処理/notebook/test.ipynb セル 6\u001b[0m line \u001b[0;36m3\n\u001b[1;32m      <a href='vscode-notebook-cell:/Users/tocochan/github_tide_project/%E3%83%87%E3%83%BC%E3%82%BF%E5%87%A6%E7%90%86/notebook/test.ipynb#X10sZmlsZQ%3D%3D?line=0'>1</a>\u001b[0m \u001b[39mdef\u001b[39;00m \u001b[39mtxt_csv_converter\u001b[39m(filename, writer):\n\u001b[1;32m      <a href='vscode-notebook-cell:/Users/tocochan/github_tide_project/%E3%83%87%E3%83%BC%E3%82%BF%E5%87%A6%E7%90%86/notebook/test.ipynb#X10sZmlsZQ%3D%3D?line=1'>2</a>\u001b[0m     \u001b[39mwith\u001b[39;00m \u001b[39mopen\u001b[39m(filename) \u001b[39mas\u001b[39;00m f:\n\u001b[0;32m----> <a href='vscode-notebook-cell:/Users/tocochan/github_tide_project/%E3%83%87%E3%83%BC%E3%82%BF%E5%87%A6%E7%90%86/notebook/test.ipynb#X10sZmlsZQ%3D%3D?line=2'>3</a>\u001b[0m         file \u001b[39m=\u001b[39m f\u001b[39m.\u001b[39;49mreadlines()\n\u001b[1;32m      <a href='vscode-notebook-cell:/Users/tocochan/github_tide_project/%E3%83%87%E3%83%BC%E3%82%BF%E5%87%A6%E7%90%86/notebook/test.ipynb#X10sZmlsZQ%3D%3D?line=3'>4</a>\u001b[0m         \u001b[39mfor\u001b[39;00m row \u001b[39min\u001b[39;00m file:\n\u001b[1;32m      <a href='vscode-notebook-cell:/Users/tocochan/github_tide_project/%E3%83%87%E3%83%BC%E3%82%BF%E5%87%A6%E7%90%86/notebook/test.ipynb#X10sZmlsZQ%3D%3D?line=4'>5</a>\u001b[0m             read \u001b[39m=\u001b[39m []\n",
      "File \u001b[0;32m<frozen codecs>:322\u001b[0m, in \u001b[0;36mdecode\u001b[0;34m(self, input, final)\u001b[0m\n",
      "\u001b[0;31mUnicodeDecodeError\u001b[0m: 'utf-8' codec can't decode byte 0x8e in position 5273: invalid start byte"
     ]
    }
   ],
   "source": [
    "for filename in filenames:\n",
    "    if filename == \".DS_Store\":\n",
    "        continue\n",
    "    csv_file = filename_path + \"/csv/\" + filename[:10] + \".csv\"\n",
    "    with open(csv_file, mode=\"w\", newline=\"\") as fw:\n",
    "        writer = csv.writer(fw)\n",
    "        txt_csv_converter(filename_path+\"/raw/\"+filename, writer)"
   ]
  },
  {
   "cell_type": "code",
   "execution_count": null,
   "metadata": {},
   "outputs": [],
   "source": []
  }
 ],
 "metadata": {
  "kernelspec": {
   "display_name": "Python 3",
   "language": "python",
   "name": "python3"
  },
  "language_info": {
   "codemirror_mode": {
    "name": "ipython",
    "version": 3
   },
   "file_extension": ".py",
   "mimetype": "text/x-python",
   "name": "python",
   "nbconvert_exporter": "python",
   "pygments_lexer": "ipython3",
   "version": "3.11.4"
  }
 },
 "nbformat": 4,
 "nbformat_minor": 2
}
