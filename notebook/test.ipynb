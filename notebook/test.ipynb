{
 "cells": [
  {
   "cell_type": "markdown",
   "metadata": {},
   "source": [
    "### パッケージのインポート"
   ]
  },
  {
   "cell_type": "code",
   "execution_count": 1,
   "metadata": {},
   "outputs": [],
   "source": [
    "import csv\n",
    "import os\n",
    "\n",
    "import pandas as pd"
   ]
  },
  {
   "cell_type": "markdown",
   "metadata": {},
   "source": [
    "### 関数の定義"
   ]
  },
  {
   "cell_type": "code",
   "execution_count": 2,
   "metadata": {},
   "outputs": [],
   "source": [
    "# 波浪テキストデータのcsvファイルへの変換\n",
    "def txt_csv_converter(filename, writer):\n",
    "    with open(filename, encoding=\"shift-jis\") as f:\n",
    "        file = f.readlines()\n",
    "        for row in file:\n",
    "            if row[0:4] != \"2011\":\n",
    "                continue\n",
    "            read = []\n",
    "            read.append(int(row[0:8]))\n",
    "            read.append(int(row[9:15]))\n",
    "\n",
    "            if row[17:24] == \"9999.99\":\n",
    "                read.append(None)\n",
    "            else:\n",
    "                read.append(float(row[17:24]))\n",
    "            \n",
    "            if row[26:33] == \"9999.99\":\n",
    "                read.append(None)\n",
    "            else:\n",
    "                read.append(float(row[26:33]))\n",
    "            \n",
    "            if row[35] == \"9\":\n",
    "                read.append(None)\n",
    "            else:\n",
    "                read.append(float(row[35:42]))\n",
    "\n",
    "            writer.writerow(read)\n",
    "\n",
    "\n",
    "# ファイル名のリスト取得\n",
    "def get_raw_data(dir_path) -> list:\n",
    "    filenames = sorted(os.listdir(dir_path))\n",
    "    if \".DS_Store\" in filenames:\n",
    "        filenames.remove(\".DS_Store\")\n",
    "    return filenames\n"
   ]
  },
  {
   "cell_type": "markdown",
   "metadata": {},
   "source": [
    "### 準備"
   ]
  },
  {
   "cell_type": "code",
   "execution_count": 3,
   "metadata": {},
   "outputs": [],
   "source": [
    "# 波浪データをcsvファイルに変換\n",
    "filename_path = \"../data/tsunami/NOWPHAS_Tsunami_data\"\n",
    "filenames = get_raw_data(filename_path+\"/raw\")\n",
    "\n",
    "for filename in filenames:\n",
    "    csv_file = filename_path + \"/csv/\" + filename[:11] + \".csv\"\n",
    "    with open(csv_file, mode=\"w\", newline=\"\") as fw:\n",
    "        writer = csv.writer(fw, delimiter=\",\")\n",
    "        txt_csv_converter(filename_path+\"/raw/\"+filename, writer)"
   ]
  }
 ],
 "metadata": {
  "kernelspec": {
   "display_name": "Python 3",
   "language": "python",
   "name": "python3"
  },
  "language_info": {
   "codemirror_mode": {
    "name": "ipython",
    "version": 3
   },
   "file_extension": ".py",
   "mimetype": "text/x-python",
   "name": "python",
   "nbconvert_exporter": "python",
   "pygments_lexer": "ipython3",
   "version": "3.11.5"
  }
 },
 "nbformat": 4,
 "nbformat_minor": 2
}
