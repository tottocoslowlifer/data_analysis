{
 "cells": [
  {
   "cell_type": "markdown",
   "metadata": {},
   "source": [
    "### パッケージのインポート"
   ]
  },
  {
   "cell_type": "code",
   "execution_count": 1,
   "metadata": {},
   "outputs": [],
   "source": [
    "import matplotlib.pyplot as plt\n",
    "import numpy as np\n",
    "import pandas as pd\n",
    "from sklearn.metrics import r2_score\n",
    "from sklearn.model_selection import train_test_split\n",
    "from sklearn.preprocessing import StandardScaler\n",
    "import torch\n",
    "from torch import nn\n",
    "from torch.optim import SGD\n",
    "from torch.utils.data import TensorDataset, DataLoader"
   ]
  },
  {
   "cell_type": "markdown",
   "metadata": {},
   "source": [
    "### データフレームの作成"
   ]
  },
  {
   "cell_type": "code",
   "execution_count": 2,
   "metadata": {},
   "outputs": [],
   "source": [
    "# メインデータフレームの作成\n",
    "main_df = pd.read_csv(\"../data/tsunami/NOWPHAS_Tsunami_data/csv/cmp_csv/cut_2011TET801G.csv\", index_col=0)\n",
    "main_df = main_df.drop([\"index\", \"deviation\", \"datetime\"], axis=1)\n",
    "\n",
    "# 過去の水位データの連結\n",
    "main_df_times = [f\"observed_{5*i}s\" for i in range(1, 13)]\n",
    "for i in range(len(main_df_times)):\n",
    "    main_df[main_df_times[i]] = main_df[\"observed\"].shift(i+1)\n",
    "    main_df[main_df_times[i]] = main_df[\"observed\"] - main_df[main_df_times[i]]\n",
    "\n",
    "# 801Gより先に津波が到達する地点の水位データを結合\n",
    "cmp_filenames = [\"2011TET318T.csv\", \"2011TET317T.csv\",\n",
    "                 \"2011TET315T.csv\", \"2011TET319T.csv\",\n",
    "                 \"2011TET802G.csv\", \"2011TET804G.csv\",\n",
    "                 \"2011TET803G.csv\", \"2011TET806G.csv\"]\n",
    "\n",
    "pre_list = []\n",
    "pre_columns = []\n",
    "\n",
    "for filename in cmp_filenames:\n",
    "    pre_df = pd.read_csv(\"../data/tsunami/NOWPHAS_Tsunami_data/csv/cmp_csv/cut_\"+filename, index_col=0)\n",
    "    pre_list.append(pre_df[\"observed\"])\n",
    "    pre_columns.append(f\"observed+{filename[7:11]}\")\n",
    "\n",
    "for i in range(len(pre_columns)):\n",
    "    main_df[pre_columns[i]] = pre_list[i]\n",
    "\n",
    "# 欠損値を含むデータの削除\n",
    "main_df_full = main_df.copy().dropna()\n",
    "main_df_full = main_df_full.reset_index().drop(\"index\", axis=1)\n",
    "\n",
    "for col in main_df_times:\n",
    "    main_df_full[col] = main_df_full[\"observed\"] - main_df_full[col]"
   ]
  },
  {
   "cell_type": "markdown",
   "metadata": {},
   "source": [
    "### ネットワーク"
   ]
  },
  {
   "cell_type": "markdown",
   "metadata": {},
   "source": [
    "#### 前処理"
   ]
  },
  {
   "cell_type": "code",
   "execution_count": 3,
   "metadata": {},
   "outputs": [],
   "source": [
    "def to_torch(X: np.ndarray, y: np.ndarray) -> tuple[torch.Tensor, torch.Tensor]:\n",
    "    X = torch.from_numpy(X).float()\n",
    "    y = torch.from_numpy(y).float()\n",
    "    return X, y\n",
    "\n",
    "\n",
    "def prepare_nn(main_df, test_size_1, test_size_2):\n",
    "    std_x = StandardScaler()\n",
    "    std_y = StandardScaler()\n",
    "    X = std_x.fit_transform(main_df.drop(\"observed\", axis=1))\n",
    "    y = std_y.fit_transform(main_df[[\"observed\"]])\n",
    "\n",
    "    X_train, X_test, y_train, y_test = train_test_split(X, y, test_size=test_size_1, shuffle=False)\n",
    "    X_valid, X_eval, y_valid, y_eval = train_test_split(X_test, y_test, test_size=test_size_2, shuffle=False)\n",
    "    train_df = pd.DataFrame(np.hstack((y_train, X_train)), columns=main_df.columns)\n",
    "    valid_df = pd.DataFrame(np.hstack((y_valid, X_valid)), columns=main_df.columns)\n",
    "    eval_df = pd.DataFrame(np.hstack((y_eval, X_eval)), columns=main_df.columns)\n",
    "\n",
    "    # Tensor型に変換\n",
    "    X_train, y_train = to_torch(X_train, y_train)\n",
    "    X_valid, y_valid = to_torch(X_valid, y_valid)\n",
    "    X_eval, y_eval = to_torch(X_eval, y_eval)\n",
    "\n",
    "    return std_x, std_y, X_train, y_train, X_valid, y_valid, X_eval, y_eval, train_df, valid_df, eval_df"
   ]
  },
  {
   "cell_type": "code",
   "execution_count": 4,
   "metadata": {},
   "outputs": [],
   "source": [
    "std_x, std_y, X_train, y_train, X_valid, y_valid, X_eval, y_eval, train_df, valid_df, eval_df = prepare_nn(main_df_full, 0.3, 0.5)\n",
    "\n",
    "train_dataset = TensorDataset(X_train, y_train)\n",
    "valid_dataset = TensorDataset(X_valid, y_valid)\n",
    "\n",
    "# DataLoader型に変換\n",
    "batch_size = 16\n",
    "\n",
    "train_dataloader = DataLoader(train_dataset, batch_size=batch_size)\n",
    "valid_dataloader = DataLoader(valid_dataset, batch_size=batch_size)"
   ]
  },
  {
   "cell_type": "markdown",
   "metadata": {},
   "source": [
    "#### モデルの構築"
   ]
  },
  {
   "cell_type": "code",
   "execution_count": 5,
   "metadata": {},
   "outputs": [],
   "source": [
    "# モデルの定義\n",
    "class NeuralNetwork(nn.Module):\n",
    "    def __init__(\n",
    "        self, input_dim, output_dim,\n",
    "        first_dim, second_dim\n",
    "    ):\n",
    "        super().__init__()\n",
    "        self.flatten = nn.Flatten()\n",
    "\n",
    "        self.linear_relu_stack = nn.Sequential(\n",
    "            nn.Linear(input_dim, first_dim),\n",
    "            nn.ReLU(),\n",
    "            nn.Linear(first_dim, second_dim),\n",
    "            nn.ReLU(),\n",
    "            nn.Linear(second_dim, output_dim)\n",
    "        )\n",
    "\n",
    "    def forward(self, x):\n",
    "        x = self.flatten(x)\n",
    "        outputs = self.linear_relu_stack(x)\n",
    "        return outputs"
   ]
  },
  {
   "cell_type": "code",
   "execution_count": 6,
   "metadata": {},
   "outputs": [],
   "source": [
    "# デバイスの選択\n",
    "if torch.cuda.is_available():\n",
    "    device = \"cuda\"\n",
    "else:\n",
    "    device = \"cpu\""
   ]
  },
  {
   "cell_type": "code",
   "execution_count": 7,
   "metadata": {},
   "outputs": [],
   "source": [
    "# インスタンスの作成\n",
    "model = NeuralNetwork(21, 1, 32, 2).to(device)"
   ]
  },
  {
   "cell_type": "markdown",
   "metadata": {},
   "source": [
    "#### 学習用の最適化器と損失関数の設定"
   ]
  },
  {
   "cell_type": "code",
   "execution_count": 8,
   "metadata": {},
   "outputs": [],
   "source": [
    "# 最適化器にはSGD(確率的勾配降下法)を,損失関数には平均二乗誤差を用いる\n",
    "optimizer = SGD(model.parameters(), lr=0.01)\n",
    "criterion = nn.MSELoss()"
   ]
  },
  {
   "cell_type": "markdown",
   "metadata": {},
   "source": [
    "#### モデルの学習"
   ]
  },
  {
   "cell_type": "code",
   "execution_count": 9,
   "metadata": {},
   "outputs": [],
   "source": [
    "def model_train(epochs, train_dataloader, valid_dataloader, model, optimizer, criterion, batch_size):\n",
    "    dataloader_dict = {\n",
    "        \"Train\": train_dataloader,\n",
    "        \"Valid\": valid_dataloader\n",
    "    }\n",
    "\n",
    "    # 学習ロスのリスト\n",
    "    training_data = []\n",
    "    for _ in range(epochs):\n",
    "        metas = []\n",
    "\n",
    "        # 学習中orテスト中で処理を分岐\n",
    "        for phase in [\"Train\", \"Valid\"]:\n",
    "            if phase == \"Train\":\n",
    "                model.train()\n",
    "            else:\n",
    "                model.eval()\n",
    "\n",
    "            epoch_loss = 0.0\n",
    "\n",
    "            for inputs, label in dataloader_dict[phase]:\n",
    "                inputs = inputs.to(device)\n",
    "                label = label.to(device)\n",
    "                optimizer.zero_grad()\n",
    "\n",
    "                # 学習中のみ、勾配の計算を行う\n",
    "                with torch.set_grad_enabled(phase == \"Train\"):\n",
    "                    outputs = model(inputs)\n",
    "                    loss = criterion(outputs, label) ** 0.5\n",
    "                    \n",
    "                    # 逆伝播を行う\n",
    "                    if phase == \"Train\":\n",
    "                        loss.backward()\n",
    "                        optimizer.step()\n",
    "\n",
    "                    epoch_loss += loss.item() * inputs.size(0)\n",
    "\n",
    "                # エポックのロスを計算\n",
    "                epoch_loss = epoch_loss / (len(dataloader_dict[phase].dataset) * batch_size)\n",
    "\n",
    "                # エポックごとのロスを連結\n",
    "                meta = {\"Loss\": epoch_loss}\n",
    "                metas.append(meta)\n",
    "           \n",
    "            training_data.append(dict(zip([\"Train\", \"Valid\"], metas)))\n",
    "\n",
    "    return model, training_data"
   ]
  },
  {
   "cell_type": "code",
   "execution_count": 10,
   "metadata": {},
   "outputs": [],
   "source": [
    "# 学習\n",
    "model, training_data = model_train(\n",
    "    epochs=100,\n",
    "    train_dataloader=train_dataloader,\n",
    "    valid_dataloader=valid_dataloader,\n",
    "    model=model,\n",
    "    optimizer=optimizer,\n",
    "    criterion=criterion,\n",
    "    batch_size=batch_size\n",
    ")"
   ]
  },
  {
   "cell_type": "markdown",
   "metadata": {},
   "source": [
    "#### 学習結果の確認"
   ]
  },
  {
   "cell_type": "code",
   "execution_count": 11,
   "metadata": {},
   "outputs": [],
   "source": [
    "# 真の値と予測値との差の可視化\n",
    "def torch_compare_preds(y_eval, y_pred):\n",
    "    y_pred = y_pred.detach().numpy().copy()\n",
    "    y_pred = std_y.inverse_transform(pd.DataFrame(y_pred))\n",
    "\n",
    "    plt.figure(figsize=(10, 5))\n",
    "    plt.grid()\n",
    "\n",
    "    plt.plot(y_eval, label='correct')\n",
    "    plt.plot(y_pred, label='prediction')\n",
    "\n",
    "    plt.legend(bbox_to_anchor=(1.01, 1), loc='upper left', borderaxespad=0.)\n",
    "    plt.show()\n",
    "\n",
    "\n",
    "# 結果の出力\n",
    "def result_print(std, df, X):\n",
    "    y_pred = model(X).detach().numpy()\n",
    "    y_pred = std.inverse_transform(y_pred)\n",
    "    y = std.inverse_transform(df[\"observed\"].to_frame())\n",
    "\n",
    "    print(\"MSE : \", np.mean((y_pred - y) ** 2))\n",
    "    print(\"r^2 train data : \", r2_score(y_pred, y))"
   ]
  },
  {
   "cell_type": "code",
   "execution_count": 12,
   "metadata": {},
   "outputs": [
    {
     "data": {
      "image/png": "[encoded data removed]",
      "text/plain": [
       "<Figure size 1000x500 with 1 Axes>"
      ]
     },
     "metadata": {},
     "output_type": "display_data"
    }
   ],
   "source": [
    "# y_evalとy_predの差を可視化\n",
    "y_pred = model(X_eval)\n",
    "y_eval_copy = std_y.inverse_transform(eval_df[\"observed\"].to_frame())\n",
    "\n",
    "torch_compare_preds(y_eval_copy, y_pred)"
   ]
  },
  {
   "cell_type": "code",
   "execution_count": 13,
   "metadata": {},
   "outputs": [
    {
     "name": "stdout",
     "output_type": "stream",
     "text": [
      "train : \n",
      "MSE :  206.26525913652034\n",
      "r^2 train data :  0.9945980511761625\n",
      "valid : \n",
      "MSE :  659.1210992018397\n",
      "r^2 train data :  0.8566933696821017\n",
      "eval : \n",
      "MSE :  333.479819539274\n",
      "r^2 train data :  0.8469274382117002\n"
     ]
    }
   ],
   "source": [
    "# 定量的評価\n",
    "print(\"train : \")\n",
    "result_print(std_y, train_df, X_train)\n",
    "\n",
    "print(\"valid : \")\n",
    "result_print(std_y, valid_df, X_valid)\n",
    "\n",
    "print(\"eval : \")\n",
    "result_print(std_y, eval_df, X_eval)"
   ]
  }
 ],
 "metadata": {
  "kernelspec": {
   "display_name": "base",
   "language": "python",
   "name": "python3"
  },
  "language_info": {
   "codemirror_mode": {
    "name": "ipython",
    "version": 3
   },
   "file_extension": ".py",
   "mimetype": "text/x-python",
   "name": "python",
   "nbconvert_exporter": "python",
   "pygments_lexer": "ipython3",
   "version": "3.11.5"
  }
 },
 "nbformat": 4,
 "nbformat_minor": 2
}
